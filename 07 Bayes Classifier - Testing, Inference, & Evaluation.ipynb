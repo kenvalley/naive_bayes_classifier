{
 "cells": [
  {
   "cell_type": "markdown",
   "id": "285f8db3",
   "metadata": {},
   "source": [
    "## Notebook Imports"
   ]
  },
  {
   "cell_type": "code",
   "execution_count": 1,
   "id": "abe4bc50",
   "metadata": {},
   "outputs": [],
   "source": [
    "import pandas as pd\n",
    "import numpy as np\n",
    "import matplotlib.pyplot as plt\n",
    "import seaborn as sns\n",
    "\n",
    "%matplotlib inline"
   ]
  },
  {
   "cell_type": "code",
   "execution_count": 2,
   "id": "b734fa90",
   "metadata": {},
   "outputs": [],
   "source": [
    "TOKEN_SPAM_PROB_FILE = 'SpamData/03_Testing/prob-spam.txt'\n",
    "TOKEN_HAM_PROB_FILE = 'SpamData/03_Testing/prob-nonspam.txt'\n",
    "TOKEN_ALL_PROB_FILE = 'SpamData/03_Testing/prob-all-tokens.txt'\n",
    "\n",
    "TEST_FEATURE_MATRIX = 'SpamData/03_Testing/test-features.txt'\n",
    "TEST_TARGET_FILE = 'SpamData/03_Testing/test-target.txt'\n",
    "\n",
    "VOCAB_SIZE = 2500"
   ]
  },
  {
   "cell_type": "markdown",
   "id": "47072d3c",
   "metadata": {},
   "source": [
    "## Load Data"
   ]
  },
  {
   "cell_type": "code",
   "execution_count": 3,
   "id": "b5aa5102",
   "metadata": {},
   "outputs": [],
   "source": [
    "# Features\n",
    "X_test = np.loadtxt(TEST_FEATURE_MATRIX, delimiter=' ')\n",
    "# Target\n",
    "y_test = np.loadtxt(TEST_TARGET_FILE, delimiter=' ')\n",
    "# Token probabilities\n",
    "prob_token_spam = np.loadtxt(TOKEN_SPAM_PROB_FILE, delimiter=' ')\n",
    "prob_token_ham = np.loadtxt(TOKEN_HAM_PROB_FILE, delimiter=' ')\n",
    "prob__all_tokens = np.loadtxt(TOKEN_ALL_PROB_FILE, delimiter=' ')"
   ]
  },
  {
   "cell_type": "code",
   "execution_count": 4,
   "id": "0099a672",
   "metadata": {},
   "outputs": [
    {
     "data": {
      "text/plain": [
       "22"
      ]
     },
     "execution_count": 4,
     "metadata": {},
     "output_type": "execute_result"
    }
   ],
   "source": [
    "wwc = np.array([1, 2, 3])\n",
    "ggp = np.array([0, 5, 4])\n",
    "np.matmul(wwc, ggp)"
   ]
  },
  {
   "cell_type": "markdown",
   "id": "27e3452a",
   "metadata": {},
   "source": [
    "**Challenge:** Can you figure out the dimensions of the dot product between X_test and prob_token_spam "
   ]
  },
  {
   "cell_type": "code",
   "execution_count": 5,
   "id": "4c9904a5",
   "metadata": {},
   "outputs": [
    {
     "data": {
      "text/plain": [
       "(1725, 2500)"
      ]
     },
     "execution_count": 5,
     "metadata": {},
     "output_type": "execute_result"
    }
   ],
   "source": [
    "X_test.shape"
   ]
  },
  {
   "cell_type": "code",
   "execution_count": 6,
   "id": "159c5b63",
   "metadata": {},
   "outputs": [
    {
     "data": {
      "text/plain": [
       "(2500,)"
      ]
     },
     "execution_count": 6,
     "metadata": {},
     "output_type": "execute_result"
    }
   ],
   "source": [
    "prob_token_spam.shape"
   ]
  },
  {
   "cell_type": "code",
   "execution_count": 7,
   "id": "4fc755ae",
   "metadata": {},
   "outputs": [
    {
     "name": "stdout",
     "output_type": "stream",
     "text": [
      "Shape of the dot product is  (1725,)\n"
     ]
    }
   ],
   "source": [
    "print('Shape of the dot product is ', X_test.dot(prob_token_spam).shape)"
   ]
  },
  {
   "cell_type": "markdown",
   "id": "f8f6784f",
   "metadata": {},
   "source": [
    "## Set the prior\n",
    "\n",
    "$$P(Spam \\, | \\, X) = \\frac{P(X \\, | \\, Spam \\,) \\, P(Spam)}{P(X)}$$"
   ]
  },
  {
   "cell_type": "code",
   "execution_count": 8,
   "id": "22a375b7",
   "metadata": {},
   "outputs": [],
   "source": [
    "PROB_SPAM = 0.3116"
   ]
  },
  {
   "cell_type": "markdown",
   "id": "bf1a1f86",
   "metadata": {},
   "source": [
    "**Challenge:** Do you recall how to take the log of a numpy array? Calculate the log prob of tokens given that the email was spam. This was stored in prob_token_spam"
   ]
  },
  {
   "cell_type": "code",
   "execution_count": 9,
   "id": "0705d317",
   "metadata": {},
   "outputs": [
    {
     "data": {
      "text/plain": [
       "array([ -4.47993173,  -5.26433046,  -4.96239403, ...,  -9.34882272,\n",
       "        -9.29166431, -11.48888889])"
      ]
     },
     "execution_count": 9,
     "metadata": {},
     "output_type": "execute_result"
    }
   ],
   "source": [
    "np.log(prob_token_spam)"
   ]
  },
  {
   "cell_type": "markdown",
   "id": "b4aebcd3",
   "metadata": {},
   "source": [
    "## Joint probability in log format"
   ]
  },
  {
   "cell_type": "code",
   "execution_count": 27,
   "id": "c3c19b5e",
   "metadata": {},
   "outputs": [],
   "source": [
    "joint_log_spam = X_test.dot(np.log(prob_token_spam) - np.log(prob__all_tokens)) + np.log(PROB_SPAM)"
   ]
  },
  {
   "cell_type": "code",
   "execution_count": 28,
   "id": "3203441f",
   "metadata": {},
   "outputs": [
    {
     "data": {
      "text/plain": [
       "array([20.12945614,  0.8752267 , 18.53183461, 17.23254716, 20.27894025])"
      ]
     },
     "execution_count": 28,
     "metadata": {},
     "output_type": "execute_result"
    }
   ],
   "source": [
    "joint_log_spam[:5]"
   ]
  },
  {
   "cell_type": "markdown",
   "id": "4964f23d",
   "metadata": {},
   "source": [
    "**Challenge** Calculate the log probabilty that the emails are non-spam given their tokens. Store the result in a variable called joint_log_ham"
   ]
  },
  {
   "cell_type": "markdown",
   "id": "6e48d6f6",
   "metadata": {},
   "source": [
    "$$P(Ham \\, | \\, X) = \\frac{P(X \\, | \\, Ham \\,) \\, (1- P(Spam))}{P(X)}$$"
   ]
  },
  {
   "cell_type": "code",
   "execution_count": 29,
   "id": "821b70f9",
   "metadata": {},
   "outputs": [],
   "source": [
    "joint_log_ham = X_test.dot(np.log(prob_token_ham) - np.log(prob__all_tokens)) + np.log(1-PROB_SPAM)"
   ]
  },
  {
   "cell_type": "code",
   "execution_count": 30,
   "id": "def35c06",
   "metadata": {},
   "outputs": [
    {
     "data": {
      "text/plain": [
       "array([-59.08387534, -10.90398895, -36.35551152, -60.90341935,\n",
       "       -53.98688524])"
      ]
     },
     "execution_count": 30,
     "metadata": {},
     "output_type": "execute_result"
    }
   ],
   "source": [
    "joint_log_ham[:5]"
   ]
  },
  {
   "cell_type": "code",
   "execution_count": 31,
   "id": "8fc4ec9b",
   "metadata": {},
   "outputs": [
    {
     "data": {
      "text/plain": [
       "1725"
      ]
     },
     "execution_count": 31,
     "metadata": {},
     "output_type": "execute_result"
    }
   ],
   "source": [
    "joint_log_ham.size"
   ]
  },
  {
   "cell_type": "markdown",
   "id": "d2a1ddc2",
   "metadata": {},
   "source": [
    "## Making Predictions\n",
    "\n",
    "### Checking for the higher joint probabilty\n",
    "\n",
    "$$P(Spam \\, | \\, X) \\, > P(Ham \\, | \\, X)$$\n",
    "<center>**OR**</center>\n",
    "$$P(Spam \\, | \\, X) \\, < P(Ham \\, | \\, X)$$"
   ]
  },
  {
   "cell_type": "markdown",
   "id": "94b098fe",
   "metadata": {},
   "source": [
    "**Challenge** Can you create the vector of predictions, our $\\hat y$ ? Remember that spam emails could have the value 1 (true) and non-spam emails should have the value zero (false)."
   ]
  },
  {
   "cell_type": "code",
   "execution_count": 32,
   "id": "c04f19f4",
   "metadata": {},
   "outputs": [],
   "source": [
    "prediction = joint_log_spam > joint_log_ham"
   ]
  },
  {
   "cell_type": "code",
   "execution_count": 33,
   "id": "1e9ee76a",
   "metadata": {},
   "outputs": [
    {
     "data": {
      "text/plain": [
       "array([0, 0, 0, 0, 0])"
      ]
     },
     "execution_count": 33,
     "metadata": {},
     "output_type": "execute_result"
    }
   ],
   "source": [
    "prediction[-5:]*1"
   ]
  },
  {
   "cell_type": "code",
   "execution_count": 34,
   "id": "5e798535",
   "metadata": {},
   "outputs": [
    {
     "data": {
      "text/plain": [
       "array([0., 0., 0., 0., 0.])"
      ]
     },
     "execution_count": 34,
     "metadata": {},
     "output_type": "execute_result"
    }
   ],
   "source": [
    "y_test[-5:]"
   ]
  },
  {
   "cell_type": "markdown",
   "id": "e7f001bc",
   "metadata": {},
   "source": [
    "## Simplify\n",
    "\n",
    "$$P(Spam \\, | \\, X)P(Spam) \\neq \\frac{P(X \\, | \\, Spam \\,) \\, P(Spam)}{P(X)}$$"
   ]
  },
  {
   "cell_type": "code",
   "execution_count": 35,
   "id": "cc103e6b",
   "metadata": {},
   "outputs": [],
   "source": [
    "joint_log_spam = X_test.dot(np.log(prob_token_spam)) + np.log(PROB_SPAM)\n",
    "joint_log_ham = X_test.dot(np.log(prob_token_ham)) + np.log(1-PROB_SPAM)"
   ]
  },
  {
   "cell_type": "markdown",
   "id": "33c7827d",
   "metadata": {},
   "source": [
    "## Metrics and Evaluation\n",
    "### Accuracy"
   ]
  },
  {
   "cell_type": "code",
   "execution_count": 36,
   "id": "297a43f8",
   "metadata": {},
   "outputs": [
    {
     "name": "stdout",
     "output_type": "stream",
     "text": [
      "Docs classified correctly 1677\n",
      "Docs classified correctly 48\n"
     ]
    }
   ],
   "source": [
    "correct_docs = (y_test == prediction).sum()\n",
    "print('Docs classified correctly', correct_docs)\n",
    "numdocs_wrong = X_test.shape[0] - correct_docs\n",
    "print('Docs classified correctly', numdocs_wrong)"
   ]
  },
  {
   "cell_type": "code",
   "execution_count": 37,
   "id": "4f0f135a",
   "metadata": {},
   "outputs": [
    {
     "data": {
      "text/plain": [
       "0.9721739130434782"
      ]
     },
     "execution_count": 37,
     "metadata": {},
     "output_type": "execute_result"
    }
   ],
   "source": [
    "# Accuracy\n",
    "correct_docs/len(X_test)"
   ]
  },
  {
   "cell_type": "code",
   "execution_count": 38,
   "id": "1ac24db4",
   "metadata": {},
   "outputs": [
    {
     "name": "stdout",
     "output_type": "stream",
     "text": [
      "Fraction classified incorrectly is 2.78%\n",
      "Accuracy of the model is 97.22%\n"
     ]
    }
   ],
   "source": [
    "fraction_wrong = numdocs_wrong/len(X_test)\n",
    "print('Fraction classified incorrectly is {:.2%}'.format(fraction_wrong))\n",
    "print('Accuracy of the model is {:.2%}'.format(1-fraction_wrong))"
   ]
  },
  {
   "cell_type": "markdown",
   "id": "80b229ce",
   "metadata": {},
   "source": [
    "## Visualizing the Results"
   ]
  },
  {
   "cell_type": "code",
   "execution_count": 22,
   "id": "346aa4b6",
   "metadata": {},
   "outputs": [],
   "source": [
    "# Chart Styling info\n",
    "yaxis_label = 'P(X | Spam)'\n",
    "xaxis_label = 'P(X | Nonspam)'\n",
    "\n",
    "linedata = np.linspace(start=-14000, stop=1, num=1000)"
   ]
  },
  {
   "cell_type": "code",
   "execution_count": 23,
   "id": "b9269e57",
   "metadata": {},
   "outputs": [
    {
     "data": {
      "image/png": "[encoded data removed]",
      "text/plain": [
       "<Figure size 792x504 with 1 Axes>"
      ]
     },
     "metadata": {
      "needs_background": "light"
     },
     "output_type": "display_data"
    }
   ],
   "source": [
    "plt.figure(figsize=(11,7))\n",
    "plt.xlabel(xaxis_label, fontsize=14)\n",
    "plt.ylabel(yaxis_label, fontsize=14)\n",
    "\n",
    "# Set scale\n",
    "plt.xlim([-14000, 1])\n",
    "plt.ylim([-14000, 1])\n",
    "\n",
    "\n",
    "plt.scatter(joint_log_ham, joint_log_spam, color='b')\n",
    "plt.show()"
   ]
  },
  {
   "cell_type": "code",
   "execution_count": 41,
   "id": "7c55dfb3",
   "metadata": {},
   "outputs": [
    {
     "data": {
      "image/png": "[encoded data removed]",
      "text/plain": [
       "<Figure size 792x504 with 2 Axes>"
      ]
     },
     "metadata": {
      "needs_background": "light"
     },
     "output_type": "display_data"
    }
   ],
   "source": [
    "plt.figure(figsize=(11,7))\n",
    "\n",
    "# Chart No.1\n",
    "plt.subplot(1,2,1)\n",
    "plt.xlabel(xaxis_label, fontsize=14)\n",
    "plt.ylabel(yaxis_label, fontsize=14)\n",
    "# Set scale\n",
    "plt.xlim([-14000, 1])\n",
    "plt.ylim([-14000, 1])\n",
    "plt.scatter(joint_log_ham, joint_log_spam, color='g', alpha=0.5, s=25)\n",
    "plt.plot(linedata, linedata, color='orange')\n",
    "\n",
    "# Chart No.2\n",
    "plt.subplot(1,2,2)\n",
    "plt.xlabel(xaxis_label, fontsize=14)\n",
    "plt.ylabel(yaxis_label, fontsize=14)\n",
    "# Set scale\n",
    "plt.xlim([-2000, 1])\n",
    "plt.ylim([-2000, 1])\n",
    "plt.scatter(joint_log_ham, joint_log_spam, color='g', alpha=0.5, s=5)\n",
    "plt.plot(linedata, linedata, color='orange')\n",
    "\n",
    "plt.show()"
   ]
  },
  {
   "cell_type": "code",
   "execution_count": 42,
   "id": "760c5daa",
   "metadata": {},
   "outputs": [],
   "source": [
    "# Chart Styling\n",
    "sns.set_style('whitegrid')\n",
    "labels = 'Actual Category'\n",
    "\n",
    "summary_df = pd.DataFrame({yaxis_label: joint_log_spam, xaxis_label: joint_log_ham, \n",
    "                           labels: y_test})"
   ]
  },
  {
   "cell_type": "code",
   "execution_count": 67,
   "id": "529d8353",
   "metadata": {},
   "outputs": [
    {
     "name": "stderr",
     "output_type": "stream",
     "text": [
      "C:\\Users\\User\\anaconda3\\lib\\site-packages\\seaborn\\regression.py:581: UserWarning: The `size` parameter has been renamed to `height`; please update your code.\n",
      "  warnings.warn(msg, UserWarning)\n"
     ]
    },
    {
     "data": {
      "text/plain": [
       "<matplotlib.legend.Legend at 0x227eefbdf70>"
      ]
     },
     "execution_count": 67,
     "metadata": {},
     "output_type": "execute_result"
    },
    {
     "data": {
      "image/png": "[encoded data removed]",
      "text/plain": [
       "<Figure size 468x468 with 1 Axes>"
      ]
     },
     "metadata": {},
     "output_type": "display_data"
    }
   ],
   "source": [
    "my_colors = ['b', 'r']\n",
    "sns.lmplot(x=xaxis_label, y=yaxis_label, data=summary_df, size=6.5, fit_reg=False, \n",
    "           hue=labels, markers=['o','x'], palette=my_colors, legend=False,\n",
    "           scatter_kws={'alpha':0.7, 's':25})\n",
    "plt.xlim([-500, 1])\n",
    "plt.ylim([-500, 1])\n",
    "plt.plot(linedata, linedata, color='black')\n",
    "plt.legend(('Decision Boundary', 'Nonspam', 'Spam'), loc='lower right', fontsize=14)\n",
    "#sns.plt.show"
   ]
  },
  {
   "cell_type": "markdown",
   "id": "bbd4fe9d",
   "metadata": {},
   "source": [
    "## False Positives and False Negatives"
   ]
  },
  {
   "cell_type": "code",
   "execution_count": 68,
   "id": "8a72a176",
   "metadata": {},
   "outputs": [
    {
     "data": {
      "text/plain": [
       "(array([False,  True]), array([1158,  567], dtype=int64))"
      ]
     },
     "execution_count": 68,
     "metadata": {},
     "output_type": "execute_result"
    }
   ],
   "source": [
    "np.unique(prediction, return_counts=True)"
   ]
  },
  {
   "cell_type": "code",
   "execution_count": 71,
   "id": "32a265d9",
   "metadata": {},
   "outputs": [
    {
     "data": {
      "text/plain": [
       "555"
      ]
     },
     "execution_count": 71,
     "metadata": {},
     "output_type": "execute_result"
    }
   ],
   "source": [
    "true_pos = (y_test==1)&(prediction==1)\n",
    "true_pos.sum()"
   ]
  },
  {
   "cell_type": "code",
   "execution_count": 72,
   "id": "16c2708a",
   "metadata": {},
   "outputs": [
    {
     "data": {
      "text/plain": [
       "array([ True,  True,  True, ..., False, False, False])"
      ]
     },
     "execution_count": 72,
     "metadata": {},
     "output_type": "execute_result"
    }
   ],
   "source": [
    "true_pos"
   ]
  },
  {
   "cell_type": "markdown",
   "id": "10dab4d5",
   "metadata": {},
   "source": [
    "**Challenge:** Create a numpy array that measures the False Positives for each datapoint. Call this variable false_pos. Then work out how many false positives there were. After yov've done that, do same for the false negatives. Store those in a variable called false_neg"
   ]
  },
  {
   "cell_type": "code",
   "execution_count": 74,
   "id": "9a1b6bed",
   "metadata": {},
   "outputs": [
    {
     "data": {
      "text/plain": [
       "12"
      ]
     },
     "execution_count": 74,
     "metadata": {},
     "output_type": "execute_result"
    }
   ],
   "source": [
    "false_pos = (y_test==0)&(prediction==1)\n",
    "false_pos.sum()"
   ]
  },
  {
   "cell_type": "code",
   "execution_count": 75,
   "id": "c7750a4e",
   "metadata": {},
   "outputs": [
    {
     "data": {
      "text/plain": [
       "36"
      ]
     },
     "execution_count": 75,
     "metadata": {},
     "output_type": "execute_result"
    }
   ],
   "source": [
    "false_neg = (y_test==1)&(prediction==0)\n",
    "false_neg.sum()"
   ]
  },
  {
   "cell_type": "markdown",
   "id": "b080555a",
   "metadata": {},
   "source": [
    "## Recall Score\n",
    "**Challenge:** Calculate the recall score. Store it in a variable called recall_score. Print the value of the recall score as a percentage rounded to two decimal places."
   ]
  },
  {
   "cell_type": "code",
   "execution_count": 87,
   "id": "b84e38f0",
   "metadata": {},
   "outputs": [
    {
     "name": "stdout",
     "output_type": "stream",
     "text": [
      "The recall score is 93.91%\n"
     ]
    }
   ],
   "source": [
    "recall_score = true_pos.sum() / (true_pos.sum() + false_neg.sum())\n",
    "print('The recall score is {:.2%}'.format(recall_score))"
   ]
  },
  {
   "cell_type": "code",
   "execution_count": 91,
   "id": "9e12681b",
   "metadata": {},
   "outputs": [
    {
     "name": "stdout",
     "output_type": "stream",
     "text": [
      "The recall score is  0.94\n"
     ]
    }
   ],
   "source": [
    "recall_score = true_pos.sum() / (true_pos.sum() + false_neg.sum())\n",
    "print('The recall score is ', round(recall_score, 2))"
   ]
  },
  {
   "cell_type": "markdown",
   "id": "8fd8bcd8",
   "metadata": {},
   "source": [
    "## Precision Score\n",
    "**Challenge:** Calculate the precision of our naive bayes model. Store the result in a variable called precision_score. Print out the precision as a decimal number rounded to three decimal places"
   ]
  },
  {
   "cell_type": "code",
   "execution_count": 94,
   "id": "8cf45f62",
   "metadata": {},
   "outputs": [
    {
     "name": "stdout",
     "output_type": "stream",
     "text": [
      "The recall score is  0.979\n"
     ]
    }
   ],
   "source": [
    "precision_score = true_pos.sum() / (true_pos.sum() + false_pos.sum())\n",
    "print('The recall score is ', round(precision_score, 3))"
   ]
  },
  {
   "cell_type": "code",
   "execution_count": 96,
   "id": "3dc54e4f",
   "metadata": {},
   "outputs": [
    {
     "name": "stdout",
     "output_type": "stream",
     "text": [
      "The recall score is 0.979\n"
     ]
    }
   ],
   "source": [
    "precision_score = true_pos.sum() / (true_pos.sum() + false_pos.sum())\n",
    "print('The recall score is {:.3f}'.format(precision_score))"
   ]
  },
  {
   "cell_type": "markdown",
   "id": "130f72e8",
   "metadata": {},
   "source": [
    "## F-Score or F1 Score"
   ]
  },
  {
   "cell_type": "code",
   "execution_count": 98,
   "id": "5d337018",
   "metadata": {},
   "outputs": [
    {
     "name": "stdout",
     "output_type": "stream",
     "text": [
      "F Score is 0.96\n"
     ]
    }
   ],
   "source": [
    "f1_score = 2*(precision_score*recall_score)/(precision_score+recall_score)\n",
    "print('F Score is {:.2f}'.format(f1_score))"
   ]
  },
  {
   "cell_type": "code",
   "execution_count": null,
   "id": "91b6963c",
   "metadata": {},
   "outputs": [],
   "source": []
  }
 ],
 "metadata": {
  "kernelspec": {
   "display_name": "Python 3 (ipykernel)",
   "language": "python",
   "name": "python3"
  },
  "language_info": {
   "codemirror_mode": {
    "name": "ipython",
    "version": 3
   },
   "file_extension": ".py",
   "mimetype": "text/x-python",
   "name": "python",
   "nbconvert_exporter": "python",
   "pygments_lexer": "ipython3",
   "version": "3.9.7"
  }
 },
 "nbformat": 4,
 "nbformat_minor": 5
}
